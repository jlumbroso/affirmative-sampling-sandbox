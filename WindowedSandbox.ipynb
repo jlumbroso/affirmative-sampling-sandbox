{
 "cells": [
  {
   "cell_type": "code",
   "execution_count": 2,
   "id": "570f6f72",
   "metadata": {},
   "outputs": [],
   "source": [
    "import math\n",
    "import json\n",
    "import re\n",
    "import typing\n",
    "\n",
    "import randomhash\n",
    "import requests\n",
    "import matplotlib.pyplot as plt"
   ]
  },
  {
   "cell_type": "code",
   "execution_count": 20,
   "id": "71b61f11",
   "metadata": {},
   "outputs": [],
   "source": [
    "orwell1984_text = requests.get(\n",
    "    \"http://gutenberg.net.au/ebooks01/0100021.txt\"\n",
    ").content.decode(\"utf-8-sig\")\n",
    "\n",
    "orwell1984_normalized_text = re.sub(\n",
    "    \"\\s+\",\n",
    "    \" \",\n",
    "    re.sub(\n",
    "        \"[^a-zA-Z\\s]+\",\n",
    "        \"\",\n",
    "        orwell1984_text)).lower()\n",
    "\n",
    "orwell1984_tokens = orwell1984_normalized_text.split()"
   ]
  },
  {
   "cell_type": "code",
   "execution_count": 3,
   "id": "c225e888",
   "metadata": {},
   "outputs": [],
   "source": [
    "mobydick_text = requests.get(\n",
    "    \"https://www.gutenberg.org/files/2701/2701-0.txt\"\n",
    ").content.decode(\"utf-8-sig\")\n",
    "\n",
    "mobydick_normalized_text = re.sub(\n",
    "    \"\\s+\",\n",
    "    \" \",\n",
    "    re.sub(\n",
    "        \"[^a-zA-Z\\s]+\",\n",
    "        \"\",\n",
    "        mobydick_text)).lower()\n",
    "\n",
    "mobydick_tokens = mobydick_normalized_text.split()"
   ]
  },
  {
   "cell_type": "code",
   "execution_count": 4,
   "id": "64517e83",
   "metadata": {},
   "outputs": [],
   "source": [
    "def compute_windowed_sample(sample_freqs, timestamps, start, window_size):\n",
    "    \n",
    "    windowed_sample = dict()\n",
    "    \n",
    "    for element, freq in sample_freqs.items():\n",
    "        \n",
    "        # fetch timestamp of element\n",
    "        timestamp = timestamps.get(element)\n",
    "        if timestamp is None:\n",
    "            continue\n",
    "        \n",
    "        # check if it is in the window\n",
    "        if timestamp < start or timestamp > (start + window_size):\n",
    "            continue\n",
    "        \n",
    "        windowed_sample[element] = timestamp\n",
    "    \n",
    "    return windowed_sample"
   ]
  },
  {
   "cell_type": "code",
   "execution_count": 5,
   "id": "c3251094",
   "metadata": {},
   "outputs": [],
   "source": [
    "def affirmative_sampling_with_timestamps(\n",
    "    tokens: typing.List[str],\n",
    "    k: int,\n",
    "    w: int = 10000,\n",
    "    seed: typing.Optional[int] = None,\n",
    ") -> typing.Dict[str, typing.Any]:\n",
    "    \"\"\"\n",
    "    Returns a random sample of the stream of tokens ``tokens``, using the\n",
    "    algorithm \"Affirmative Sampling\" by Jérémie Lumbroso and Conrado\n",
    "    Martínez (2022).\n",
    "\n",
    "    :param tokens: A list of string tokens\n",
    "    :type tokens: typing.List[str]\n",
    "    :param k: The parameter of Affirmative Sampling that controls the fixed part of the sample\n",
    "    :type k: int\n",
    "    :param w: The size of the window\n",
    "    :type w: int\n",
    "    :param seed: A seed for the pseudo-random number generator (optional, time-seeded by default)\n",
    "    :type seed: typing.Optional[int]\n",
    "\n",
    "    :return: A dictionary containing a cardinality estimate, as well as a random sample of the stream of tokens\n",
    "    :rtype: typing.Dict[str, typing.Any]\n",
    "    \"\"\"\n",
    "\n",
    "    # initialize the PRNG\n",
    "    prng = randomhash.RandomHashFamily(seed=seed)\n",
    "\n",
    "    # initialize the sample\n",
    "\n",
    "    sample_core = set()\n",
    "    sample_xtra = set()\n",
    "    sample_freqs = {}\n",
    "    \n",
    "    # timestamps = numbering from 0 to N of each item\n",
    "    # timestamp dict (maps items -> most recent \"timestamp\")\n",
    "    latest_timestamp = dict()\n",
    "    windowed_sample_size = [0] * len(tokens)\n",
    "    windowed_cardinality = [0] * len(tokens)\n",
    "\n",
    "    # INITIAL PART\n",
    "    # ============\n",
    "\n",
    "    # fill S with the first k distinct elements (and hash values)\n",
    "\n",
    "    idx = 0\n",
    "    while len(sample_core) < k and idx < len(tokens):\n",
    "        z = tokens[idx]\n",
    "        if z not in sample_core:\n",
    "            sample_core.add(z)\n",
    "        idx += 1\n",
    "\n",
    "        # update frequency\n",
    "        sample_freqs[z] = sample_freqs.get(z, 0) + 1\n",
    "        \n",
    "        # update timestamp\n",
    "        latest_timestamp[z] = idx\n",
    "        \n",
    "        # update windowed cardinality\n",
    "        ws = len(compute_windowed_sample(\n",
    "                sample_freqs=sample_freqs,\n",
    "                timestamps=latest_timestamp,\n",
    "                start=max(0, idx-w),\n",
    "                window_size=w,\n",
    "            ))\n",
    "        windowed_sample_size[idx] = ws\n",
    "        windowed_cardinality[idx] = len(set(tokens[max(0, idx - w):idx]))\n",
    "\n",
    "    # compute current minimum and kth largest element of the sample\n",
    "\n",
    "    def _hash_preimage_pair(z): return (prng.hash(z), z)\n",
    "\n",
    "    # sample_core here because sample_xtra is empty\n",
    "    min_hash, z_min_hash = min(map(_hash_preimage_pair, sample_core))\n",
    "    kth_hash, z_kth_hash = min(map(_hash_preimage_pair, sample_core))\n",
    "\n",
    "    # MAIN LOOP\n",
    "    # =========\n",
    "\n",
    "    for timestamp, z in enumerate(iterable=tokens[idx:], start=idx):\n",
    "        \n",
    "        # compute windowed sample size\n",
    "        ws = len(compute_windowed_sample(\n",
    "            sample_freqs=sample_freqs,\n",
    "            timestamps=latest_timestamp,\n",
    "            start=max(0, timestamp - w - 1),\n",
    "            window_size=w,\n",
    "        ))\n",
    "        windowed_sample_size[timestamp-1] = ws\n",
    "        \n",
    "        # update windowed cardinality\n",
    "        windowed_cardinality[timestamp] = len(set(tokens[max(0, timestamp - w):timestamp]))\n",
    "\n",
    "        # (A) if z in the sample\n",
    "        if z in sample_core or z in sample_xtra:\n",
    "            # update frequency\n",
    "            # (should also update any other stat of z)\n",
    "            sample_freqs[z] = sample_freqs.get(z, 0) + 1\n",
    "            \n",
    "            # update timestamp\n",
    "            latest_timestamp[z] = timestamp\n",
    "            \n",
    "            continue\n",
    "\n",
    "        # (B) z is not in the sample, so compute y=hash(z)\n",
    "\n",
    "        y = prng.hash(z)\n",
    "\n",
    "        # (B.1) if y is smaller than the min hash value in S\n",
    "        if y < min_hash:\n",
    "            # DISCARD = ignore the element entirely\n",
    "            continue\n",
    "\n",
    "        # (B.2) if y is larger than the k-th largest hash value in S\n",
    "        # y is a new k-record, needs not to be larger than the largest in the sample!\n",
    "        elif y > kth_hash:\n",
    "            # EXPAND = the total size sample grows by one\n",
    "            # (but sample_core remains at size k)\n",
    "\n",
    "            # add z to S\n",
    "            sample_core.add(z)\n",
    "            sample_freqs[z] = 1\n",
    "\n",
    "            # move z_kth_hash from core to xtra\n",
    "            sample_xtra.add(z_kth_hash)\n",
    "            sample_core.remove(z_kth_hash)\n",
    "\n",
    "            min_hash, z_min_hash = min(map(_hash_preimage_pair, sample_xtra))\n",
    "            kth_hash, z_kth_hash = min(map(_hash_preimage_pair, sample_core))\n",
    "\n",
    "        # (B.3) otherwise z replaces the element z* with min. hash value\n",
    "        # sample_xtra must contain z_min_hash otherwise we have a contradiction\n",
    "        else:\n",
    "            # REPLACE = the size of the sample does not change but we\n",
    "            # make sure to keep the largest elements\n",
    "\n",
    "            # remove the element with min. hash value\n",
    "            sample_xtra.remove(z_min_hash)\n",
    "            del sample_freqs[z_min_hash]\n",
    "\n",
    "            # and replace by the current element z\n",
    "            sample_xtra.add(z)\n",
    "            sample_freqs[z] = 1\n",
    "\n",
    "            # only sample_xtra has changed, no need to update kth_hash\n",
    "            min_hash, z_min_hash = min(map(_hash_preimage_pair, sample_xtra))\n",
    "        \n",
    "        # update timestamp\n",
    "        latest_timestamp[z] = timestamp\n",
    "\n",
    "    # compute estimators:\n",
    "    # - Recordinality (less accurate, so we do not share it with the user)\n",
    "    # - K-mean value estimator, with the Affirmative Sampling sample\n",
    "    recordinality = k*(1 + 1/k)**(len(sample_freqs)-k+1)\n",
    "    af_kmv = (len(sample_freqs)-1)/(1-randomhash.int_to_real(min_hash))\n",
    "\n",
    "    return {\n",
    "        \"cardinalityEstimate\": af_kmv,\n",
    "        \"sampleSize\": len(sample_freqs),\n",
    "        \"sample\": sample_freqs,\n",
    "        \"timestamps\": latest_timestamp,\n",
    "        \"windowed_sample_size\": windowed_sample_size,\n",
    "        \"windowed_cardinality\": windowed_cardinality,\n",
    "    }"
   ]
  },
  {
   "cell_type": "code",
   "execution_count": null,
   "id": "1d2322a3",
   "metadata": {},
   "outputs": [],
   "source": []
  },
  {
   "cell_type": "code",
   "execution_count": 7,
   "id": "760a961f",
   "metadata": {},
   "outputs": [
    {
     "name": "stdout",
     "output_type": "stream",
     "text": [
      "N=215436, n=19962, k=100, k*ln(n/k)=629.641555925844\n"
     ]
    }
   ],
   "source": [
    "N = len(mobydick_tokens)\n",
    "n = len(set(mobydick_tokens))\n",
    "k = 100\n",
    "print(f\"N={N}, n={n}, k={k}, k*ln(n/k)={k*math.log(n/k)+k}\")"
   ]
  },
  {
   "cell_type": "code",
   "execution_count": 8,
   "id": "8b45e6a5",
   "metadata": {},
   "outputs": [],
   "source": [
    "sample = affirmative_sampling_with_timestamps(k=k, tokens=mobydick_tokens)"
   ]
  },
  {
   "cell_type": "code",
   "execution_count": 24,
   "id": "a35a66e5",
   "metadata": {},
   "outputs": [],
   "source": [
    "sample2 = affirmative_sampling_with_timestamps(k=k, tokens=orwell1984_tokens)"
   ]
  },
  {
   "cell_type": "code",
   "execution_count": 22,
   "id": "495edaa3",
   "metadata": {},
   "outputs": [
    {
     "name": "stdout",
     "output_type": "stream",
     "text": [
      "[0, 1, 2, 3, 4, 5, 6, 7, 7, 8, 9, 10, 11, 12, 12, 13, 14, 14, 15, 15, 16, 17, 18, 18, 19, 20, 21, 22, 23, 24, 24, 24, 25, 26, 27, 28, 28, 29, 30, 30, 31, 32, 33, 34, 35, 36, 37, 37, 38, 38, 39, 39, 40, 40, 41, 41, 41, 41, 41, 42, 43, 43, 43, 43, 43, 44, 44, 45, 46, 46, 47, 48, 49, 49, 49, 49, 49, 49, 50, 51, 52, 53, 53, 54, 54, 54, 55, 56, 56, 56, 56, 57, 58, 58, 58, 59, 59, 59, 59, 59, 60, 60, 60, 61, 62, 63, 63, 63, 64, 65, 66, 67, 68, 69, 70, 71, 72, 73, 73, 74, 75, 76, 76, 77, 78, 79, 79, 79, 79, 79, 79, 79, 79, 79, 79, 79, 79, 79, 79, 79, 79, 79, 80, 81, 82, 83, 83, 84, 85, 86, 87, 87, 87, 88, 88, 88, 89, 89, 89, 90, 90, 91, 91, 91, 92, 92, 92, 93, 93, 93, 94, 94, 94, 95, 95, 95, 96, 97, 97, 98, 98, 99, 100, 100, 101, 101, 102, 102, 102, 103, 103, 103, 104, 104, 105, 106, 106, 106, 107, 107, 108, 109, 109, 110, 111, 111, 112, 113, 113, 113, 114, 115, 115, 115, 116, 116, 117, 117, 118, 118, 119, 119, 119, 119, 119, 119, 119, 119, 120, 120, 120, 121, 122, 122, 122, 123, 123, 124, 125, 125, 126, 126, 126, 127, 127, 127, 128, 128, 128, 128, 128, 128, 128, 128, 129, 129, 130, 130, 131, 132, 132, 133, 134, 134, 135, 136, 136, 136, 137, 137, 137, 137, 137, 137, 137, 137, 138, 138, 138, 138, 138, 138, 138, 138, 138, 138, 138, 138, 138, 138, 138, 138, 138, 139, 140, 140, 140, 140, 140, 140, 140, 140, 140, 141, 141, 141, 141, 141, 141, 142, 142, 142, 142, 142, 143, 143, 143, 143, 143, 143, 143, 143, 144, 144, 144, 144, 144, 144, 144, 144, 144, 145, 146, 146, 146, 146, 146, 147, 147, 147, 147, 148, 148, 148, 148, 148, 148, 148, 148, 149, 149, 150, 150, 150, 150, 150, 150, 150, 150, 151, 151, 151, 151, 151, 151, 151, 151, 152, 152, 153, 154, 154, 154, 154, 154, 154, 155, 155, 155, 155, 155, 155, 156, 156, 156, 156, 156, 156, 156, 157, 157, 157, 157, 157, 157, 158, 158, 158, 158, 158, 158, 158, 158, 159, 160, 160, 160, 160, 160, 161, 161, 161, 162, 162, 162, 162, 162, 163, 163, 164, 165, 165, 165, 165, 165, 165, 165, 165, 165, 166, 166, 166, 166, 167, 168, 168, 168, 168, 169, 169, 169, 170, 170, 170, 170, 170, 170, 171, 172, 172, 173, 173, 173, 173, 173, 173, 173, 173, 173, 174, 174, 175, 175, 176, 176, 176, 176, 176, 176, 176, 176, 176, 176, 177, 177, 177, 177, 178, 178, 179, 179, 180, 180, 181, 181, 182, 182, 182, 182, 182, 182, 182, 182, 183, 183, 183, 184, 184, 184, 184]\n"
     ]
    }
   ],
   "source": [
    "print(sample[\"windowed_sample_size\"][0:500])"
   ]
  },
  {
   "cell_type": "code",
   "execution_count": 23,
   "id": "5b11dcfd",
   "metadata": {},
   "outputs": [
    {
     "name": "stdout",
     "output_type": "stream",
     "text": [
      "[0, 1, 2, 3, 4, 5, 6, 7, 7, 8, 9, 10, 11, 12, 12, 13, 14, 14, 15, 15, 16, 17, 18, 18, 19, 20, 21, 22, 23, 24, 24, 24, 25, 26, 27, 28, 28, 29, 30, 30, 31, 32, 33, 34, 35, 36, 37, 37, 38, 38, 39, 39, 40, 40, 41, 41, 41, 41, 41, 42, 43, 43, 43, 43, 43, 44, 44, 45, 46, 46, 47, 48, 49, 49, 49, 49, 49, 49, 50, 51, 52, 53, 53, 54, 54, 54, 55, 56, 56, 56, 56, 57, 58, 58, 58, 59, 59, 59, 59, 59, 60, 60, 60, 61, 62, 63, 63, 63, 64, 65, 66, 67, 68, 69, 70, 71, 72, 73, 73, 74, 75, 76, 76, 77, 78, 79, 79, 79, 79, 79, 79, 79, 79, 79, 79, 79, 79, 79, 79, 79, 79, 79, 80, 81, 82, 83, 83, 84, 85, 86, 87, 87, 87, 88, 88, 88, 89, 89, 89, 90, 90, 91, 91, 91, 92, 92, 92, 93, 93, 93, 94, 94, 94, 95, 95, 95, 96, 97, 97, 98, 98, 99, 99, 100, 100, 101, 101, 102, 102, 102, 103, 103, 103, 104, 104, 105, 106, 106, 106, 107, 107, 108, 109, 109, 110, 111, 111, 112, 113, 113, 113, 114, 115, 115, 115, 116, 116, 117, 117, 118, 118, 119, 119, 119, 119, 119, 119, 120, 120, 121, 121, 121, 122, 123, 123, 123, 124, 124, 125, 126, 126, 127, 127, 127, 128, 128, 128, 129, 129, 129, 130, 130, 130, 131, 131, 132, 132, 133, 133, 134, 135, 135, 136, 137, 137, 138, 139, 139, 139, 140, 140, 140, 140, 140, 141, 141, 141, 142, 142, 142, 143, 143, 144, 144, 144, 145, 145, 145, 145, 146, 146, 146, 147, 147, 148, 149, 149, 150, 151, 151, 151, 152, 152, 152, 153, 153, 153, 154, 154, 154, 155, 156, 156, 156, 156, 157, 158, 158, 159, 159, 159, 159, 160, 161, 161, 161, 161, 161, 161, 162, 162, 162, 163, 164, 164, 164, 164, 164, 165, 165, 166, 166, 167, 167, 168, 168, 169, 169, 170, 170, 171, 171, 172, 172, 173, 173, 173, 174, 174, 174, 175, 175, 175, 175, 175, 176, 176, 176, 177, 177, 178, 179, 179, 179, 179, 180, 180, 181, 181, 181, 182, 183, 183, 184, 184, 184, 184, 185, 185, 185, 186, 186, 186, 187, 187, 187, 188, 188, 188, 188, 189, 189, 189, 189, 190, 191, 191, 192, 192, 192, 193, 193, 193, 194, 195, 195, 195, 195, 196, 196, 197, 198, 198, 198, 198, 198, 198, 198, 198, 198, 199, 199, 199, 200, 201, 202, 202, 203, 203, 204, 204, 204, 205, 205, 205, 206, 206, 206, 207, 208, 208, 209, 209, 209, 210, 210, 211, 211, 211, 211, 212, 213, 214, 214, 215, 215, 215, 216, 216, 216, 217, 217, 217, 218, 219, 219, 220, 220, 221, 221, 222, 222, 223, 223, 224, 224, 225, 225, 225, 225, 225, 225, 226, 226, 227, 227, 227, 228, 228, 228]\n"
     ]
    }
   ],
   "source": [
    "print(sample[\"windowed_cardinality\"][0:500])"
   ]
  },
  {
   "cell_type": "code",
   "execution_count": 11,
   "id": "75f59287",
   "metadata": {},
   "outputs": [
    {
     "data": {
      "text/plain": [
       "[<matplotlib.lines.Line2D at 0x11cf19cd0>]"
      ]
     },
     "execution_count": 11,
     "metadata": {},
     "output_type": "execute_result"
    },
    {
     "data": {
      "image/png": "[encoded data removed]",
      "text/plain": [
       "<Figure size 432x288 with 1 Axes>"
      ]
     },
     "metadata": {
      "needs_background": "light"
     },
     "output_type": "display_data"
    }
   ],
   "source": [
    "plt.plot(sample[\"windowed_sample_size\"])"
   ]
  },
  {
   "cell_type": "code",
   "execution_count": 12,
   "id": "a5f55d5a",
   "metadata": {},
   "outputs": [
    {
     "data": {
      "text/plain": [
       "[<matplotlib.lines.Line2D at 0x11dce8640>]"
      ]
     },
     "execution_count": 12,
     "metadata": {},
     "output_type": "execute_result"
    },
    {
     "data": {
      "image/png": "[encoded data removed]",
      "text/plain": [
       "<Figure size 432x288 with 1 Axes>"
      ]
     },
     "metadata": {
      "needs_background": "light"
     },
     "output_type": "display_data"
    }
   ],
   "source": [
    "plt.plot(sample[\"windowed_cardinality\"])"
   ]
  },
  {
   "cell_type": "code",
   "execution_count": 25,
   "id": "c34e2980",
   "metadata": {},
   "outputs": [
    {
     "data": {
      "text/plain": [
       "[<matplotlib.lines.Line2D at 0x11f4f5fa0>]"
      ]
     },
     "execution_count": 25,
     "metadata": {},
     "output_type": "execute_result"
    },
    {
     "data": {
      "image/png": "[encoded data removed]",
      "text/plain": [
       "<Figure size 432x288 with 1 Axes>"
      ]
     },
     "metadata": {
      "needs_background": "light"
     },
     "output_type": "display_data"
    }
   ],
   "source": [
    "plt.plot(sample2[\"windowed_sample_size\"])"
   ]
  },
  {
   "cell_type": "code",
   "execution_count": 26,
   "id": "401cc6ae",
   "metadata": {},
   "outputs": [
    {
     "data": {
      "text/plain": [
       "[<matplotlib.lines.Line2D at 0x11f6a1190>]"
      ]
     },
     "execution_count": 26,
     "metadata": {},
     "output_type": "execute_result"
    },
    {
     "data": {
      "image/png": "[encoded data removed]",
      "text/plain": [
       "<Figure size 432x288 with 1 Axes>"
      ]
     },
     "metadata": {
      "needs_background": "light"
     },
     "output_type": "display_data"
    }
   ],
   "source": [
    "plt.plot(sample2[\"windowed_cardinality\"])"
   ]
  },
  {
   "cell_type": "code",
   "execution_count": null,
   "id": "70b0902b",
   "metadata": {},
   "outputs": [],
   "source": []
  },
  {
   "cell_type": "code",
   "execution_count": null,
   "id": "6c16c9a5",
   "metadata": {},
   "outputs": [],
   "source": [
    "TOTAL_number_of_tokens_without_e = len([\n",
    "    token\n",
    "    for token in mobydick_tokens\n",
    "    if \"e\" not in token\n",
    "])\n",
    "\n",
    "SAMPLE_number_of_tokens_without_e = len([\n",
    "    token\n",
    "    for token in sample[\"sample\"].keys()\n",
    "    if \"e\" not in token\n",
    "])\n",
    "\n",
    "(\n",
    "    TOTAL_number_of_tokens_without_e,\n",
    "    SAMPLE_number_of_tokens_without_e,\n",
    "    SAMPLE_number_of_tokens_without_e / sample[\"sampleSize\"] * sample[\"cardinality\"][\"af-kmv\"]\n",
    ")"
   ]
  },
  {
   "cell_type": "code",
   "execution_count": null,
   "id": "07b5537f",
   "metadata": {},
   "outputs": [],
   "source": [
    "TOTAL_number_of_tokens_without_e = len([\n",
    "    token\n",
    "    for token in set(mobydick_tokens)\n",
    "    if \"e\" not in token\n",
    "])\n",
    "\n",
    "SAMPLE_number_of_tokens_without_e = len([\n",
    "    token\n",
    "    for token in sample[\"sample\"].keys()\n",
    "    if \"e\" not in token\n",
    "])\n",
    "\n",
    "(\n",
    "    TOTAL_number_of_tokens_without_e,\n",
    "    SAMPLE_number_of_tokens_without_e,\n",
    "    SAMPLE_number_of_tokens_without_e / sample[\"sampleSize\"] * sample[\"cardinality\"][\"af-kmv\"]\n",
    ")"
   ]
  },
  {
   "cell_type": "code",
   "execution_count": null,
   "id": "ffab4aef",
   "metadata": {},
   "outputs": [],
   "source": [
    "import collections\n",
    "\n",
    "TOTAL_number_of_distinct_mice = len([\n",
    "    token\n",
    "    for (token, count) in collections.Counter(mobydick_tokens).items()\n",
    "    if count <= 5\n",
    "])\n",
    "\n",
    "SAMPLE_number_of_distinct_mice = len([\n",
    "    token\n",
    "    for (token, count) in sample[\"sample\"].items()\n",
    "    if count <= 5\n",
    "])\n",
    "\n",
    "(\n",
    "    TOTAL_number_of_distinct_mice,\n",
    "    SAMPLE_number_of_distinct_mice,\n",
    "    SAMPLE_number_of_distinct_mice / sample[\"sampleSize\"] * sample[\"cardinality\"][\"af-kmv\"]\n",
    ")"
   ]
  },
  {
   "cell_type": "code",
   "execution_count": null,
   "id": "ee94dbeb",
   "metadata": {},
   "outputs": [],
   "source": [
    "TOTAL_number_of_mice = len([\n",
    "    token\n",
    "    for token, count in mobydick_tokens.items()\n",
    "    if \"e\" not in token\n",
    "])\n",
    "\n",
    "SAMPLE_number_of_tokens_without_e = len([\n",
    "    token\n",
    "    for token in sample[\"sample\"].keys()\n",
    "    if \"e\" not in token\n",
    "])\n",
    "\n",
    "(\n",
    "    TOTAL_number_of_tokens_without_e,\n",
    "    SAMPLE_number_of_tokens_without_e,\n",
    "    SAMPLE_number_of_tokens_without_e / sample[\"sampleSize\"] * sample[\"cardinality\"][\"af-kmv\"]\n",
    ")"
   ]
  },
  {
   "cell_type": "code",
   "execution_count": null,
   "id": "923ae165",
   "metadata": {},
   "outputs": [],
   "source": []
  }
 ],
 "metadata": {
  "kernelspec": {
   "display_name": "Python (mambaforge venv)",
   "language": "python",
   "name": "mambavenv"
  },
  "language_info": {
   "codemirror_mode": {
    "name": "ipython",
    "version": 3
   },
   "file_extension": ".py",
   "mimetype": "text/x-python",
   "name": "python",
   "nbconvert_exporter": "python",
   "pygments_lexer": "ipython3",
   "version": "3.9.4"
  }
 },
 "nbformat": 4,
 "nbformat_minor": 5
}
